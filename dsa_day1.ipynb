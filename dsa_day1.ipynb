{
  "nbformat": 4,
  "nbformat_minor": 0,
  "metadata": {
    "colab": {
      "provenance": [],
      "toc_visible": true,
      "authorship_tag": "ABX9TyM72xaUBw8yCmkX6rhIqRuz",
      "include_colab_link": true
    },
    "kernelspec": {
      "name": "python3",
      "display_name": "Python 3"
    },
    "language_info": {
      "name": "python"
    }
  },
  "cells": [
    {
      "cell_type": "markdown",
      "metadata": {
        "id": "view-in-github",
        "colab_type": "text"
      },
      "source": [
        "<a href=\"https://colab.research.google.com/github/muralimd07/Algorithm-basics/blob/master/dsa_day1.ipynb\" target=\"_parent\"><img src=\"https://colab.research.google.com/assets/colab-badge.svg\" alt=\"Open In Colab\"/></a>"
      ]
    },
    {
      "cell_type": "markdown",
      "source": [
        "## Algorithm\n",
        "\n",
        "## an algorithm is a set of well-defined instructions to solve a particular problem. \n",
        "## It takes a set of input(s) and produces the desired output. For example,\n",
        "\n",
        "\n"
      ],
      "metadata": {
        "id": "5ZGIXx2MUDZn"
      }
    },
    {
      "cell_type": "markdown",
      "source": [
        "**Qualities of a Good Algorithm**\n",
        "\n",
        "1.Input and output should be defined precisely.\n",
        "2.Each step in the algorithm should be clear and unambiguous.\n",
        "3.Algorithms should be most effective among many different ways to solve a problem.\n",
        "4.An algorithm shouldn't include computer code. Instead, the algorithm should be written in such a way that it can be used in different programming languages.\n",
        "\n",
        "\n",
        "\n"
      ],
      "metadata": {
        "id": "gCl0OUecVFIK"
      }
    },
    {
      "cell_type": "markdown",
      "source": [
        "**Types of DataStructure**\n",
        "\n",
        "1.Linear Datastructure<br>\n",
        "2.Non-Linear DataStructure"
      ],
      "metadata": {
        "id": "5yRgb_l2Xk0h"
      }
    },
    {
      "cell_type": "markdown",
      "source": [
        "**Linear data structures**\n",
        "In linear data structures, the elements are arranged in sequence one after the other. Since elements are arranged in particular order, they are easy to implement.\n",
        "\n",
        "However, when the complexity of the program increases, the linear data structures might not be the best choice because of operational complexities."
      ],
      "metadata": {
        "id": "zT9DeQzSZOE0"
      }
    },
    {
      "cell_type": "markdown",
      "source": [
        "**Asymptotic Analysis: Big-O Notation**"
      ],
      "metadata": {
        "id": "Y0HfBOWsZiaI"
      }
    }
  ]
}